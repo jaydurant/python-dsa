{
 "cells": [
  {
   "cell_type": "markdown",
   "metadata": {},
   "source": [
    "# Arrays\n",
    "- in some languages arrays are resizeable\n",
    "- an arraylist will resize itself while still providing 0(1) access\n",
    "- an arraylist resizes itself as needed\n",
    "- when an array is full the array doubles in size each doubling takes O(n)\n",
    "- amoritized run time O(1)\n",
    "- resizing factor 2 -> Java\n",
    "    -  adding a doubling of array indices\n",
    "- resizing factor 1.125 -> Python\n",
    "    - adding about 8% of array indices"
   ]
  },
  {
   "cell_type": "code",
   "execution_count": 2,
   "metadata": {},
   "outputs": [],
   "source": [
    "# factor of 1.125 adding about an 8% increase each aray increase\n",
    "# new_size + new_size >> 3 + (newsize < 9 ? 3 : 6)"
   ]
  }
 ],
 "metadata": {
  "kernelspec": {
   "display_name": "Python 3",
   "language": "python",
   "name": "python3"
  },
  "language_info": {
   "codemirror_mode": {
    "name": "ipython",
    "version": 3
   },
   "file_extension": ".py",
   "mimetype": "text/x-python",
   "name": "python",
   "nbconvert_exporter": "python",
   "pygments_lexer": "ipython3",
   "version": "3.6.5"
  }
 },
 "nbformat": 4,
 "nbformat_minor": 2
}
