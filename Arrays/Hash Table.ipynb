{
 "cells": [
  {
   "cell_type": "markdown",
   "metadata": {},
   "source": [
    "# Hash Table\n",
    "a data structure that maps keys to values for efficient lookup\n",
    "\n",
    "1. compute a keys hashcode  which will be a int or long\n",
    "2. map the hashcode to an index in the array which can be done with a hashing function, multiple hash codes can be tied to an index\n",
    "3. at this index there is a linked list of keys and values store key and value in the linked list, linked list due to collisions \n",
    "\n",
    "- can be implemented with a balanced binary search tree which allows for log n lookup time and allows for use of less space since no large array is needed can iterate through keys in order\n",
    "\n",
    "### Big O Insertion, Deletion, Search is O(1)"
   ]
  },
  {
   "cell_type": "code",
   "execution_count": 22,
   "metadata": {},
   "outputs": [
    {
     "name": "stdout",
     "output_type": "stream",
     "text": [
      "[[], [], [], [], [], [], [], [], [], []]\n"
     ]
    }
   ],
   "source": [
    "hash_table = [[] for _ in range(10)]\n",
    "print(hash_table)"
   ]
  },
  {
   "cell_type": "code",
   "execution_count": 23,
   "metadata": {},
   "outputs": [],
   "source": [
    "def hashing_func(key):\n",
    "    return hash(key) % len(hash_table)\n",
    "\n",
    "def insert(hash_table, key, value):\n",
    "    hash_key = hashing_func(key)\n",
    "    key_exists = False\n",
    "    bucket =  hash_table[hash_key]\n",
    "    for i, kv in enumerate(bucket):\n",
    "        k, v = kv\n",
    "        if key == k:\n",
    "            key_exists = True\n",
    "            break\n",
    "    if key_exists:\n",
    "        bucket[i] = ((key, value))\n",
    "    else:\n",
    "        bucket.append((key, value))\n",
    "\n",
    "def search(hash_table, key):\n",
    "    hash_key = hashing_func(key)\n",
    "    bucket = hash_table[hash_key]\n",
    "    for i, kv in enumerate(bucket):\n",
    "        k,v = kv\n",
    "        if key == k:\n",
    "            return v\n",
    "    return None\n",
    "\n",
    "def delete(hash_table, key):\n",
    "    hash_key = hashing_func(key)\n",
    "    bucket = hash_table[hash_key]\n",
    "    key_exists = False\n",
    "    for i, kv in enumerate(bucket):\n",
    "        k,v = kv\n",
    "        if key == k:\n",
    "            key_exists = True\n",
    "            break\n",
    "    if key_exists:\n",
    "        del bucket[i]\n",
    "        print('Key {} deleted'.format(key))\n",
    "    else:\n",
    "        print('Key {} not found'.format(key))"
   ]
  },
  {
   "cell_type": "code",
   "execution_count": 24,
   "metadata": {},
   "outputs": [
    {
     "name": "stdout",
     "output_type": "stream",
     "text": [
      "[[], [], [(2, 'Car'), (12, 'Mars')], [(3, 'Bar')], [], [], [], [], [], []]\n"
     ]
    }
   ],
   "source": [
    "insert(hash_table, 2, 'Car')\n",
    "insert(hash_table, 3, 'Bar')\n",
    "insert(hash_table, 12, 'Mars')\n",
    "print(hash_table)"
   ]
  },
  {
   "cell_type": "code",
   "execution_count": 25,
   "metadata": {},
   "outputs": [
    {
     "name": "stdout",
     "output_type": "stream",
     "text": [
      "Mars\n"
     ]
    }
   ],
   "source": [
    "print(search(hash_table, 12))"
   ]
  },
  {
   "cell_type": "code",
   "execution_count": 26,
   "metadata": {},
   "outputs": [
    {
     "name": "stdout",
     "output_type": "stream",
     "text": [
      "Key 2 deleted\n",
      "[[], [], [(12, 'Mars')], [(3, 'Bar')], [], [], [], [], [], []]\n"
     ]
    }
   ],
   "source": [
    "delete(hash_table, 2)\n",
    "print(hash_table)"
   ]
  }
 ],
 "metadata": {
  "kernelspec": {
   "display_name": "Python 3",
   "language": "python",
   "name": "python3"
  },
  "language_info": {
   "codemirror_mode": {
    "name": "ipython",
    "version": 3
   },
   "file_extension": ".py",
   "mimetype": "text/x-python",
   "name": "python",
   "nbconvert_exporter": "python",
   "pygments_lexer": "ipython3",
<<<<<<< HEAD
   "version": "3.6.5"
=======
   "version": "3.7.4"
>>>>>>> 47b4e0fd48f737f4f3556e5c23f14ec56747b70a
  }
 },
 "nbformat": 4,
 "nbformat_minor": 2
}
