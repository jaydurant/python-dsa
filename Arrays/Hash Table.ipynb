{
 "cells": [
  {
   "cell_type": "markdown",
   "metadata": {},
   "source": [
    "# Hash Table\n",
    "a data structure that maps keys to values for efficient lookup\n",
    "\n",
    "1. compute a keys hashcode  which will be a int or long\n",
    "2. map the hashcode to an index in the array which can be done with a hashing function, multiple hash codes can be tied to an index\n",
    "3. at this index there is a linked list of keys and values store key and value in the linked list, linked list due to collisions \n",
    "\n",
    "- can be implemented with a balanced binary search tree which allows for log n lookup time and allows for use of less space since no large array is needed can iterate through keys in order"
   ]
  },
  {
   "cell_type": "code",
   "execution_count": 5,
   "metadata": {},
   "outputs": [
    {
     "name": "stdout",
     "output_type": "stream",
     "text": [
      "[[], [], [], [], [], [], [], [], [], []]\n"
     ]
    }
   ],
   "source": [
    "hash_table = [[] for _ in range(10)]\n",
    "print(hash_table)"
   ]
  },
  {
   "cell_type": "code",
   "execution_count": 4,
   "metadata": {},
   "outputs": [
    {
     "name": "stdout",
     "output_type": "stream",
     "text": [
      "[None, None, None, None, None, None, None, None, None, None]\n"
     ]
    }
   ],
   "source": [
    "def hashing_func(key):\n",
    "    return hash(key) % len(hash_table)\n",
    "\n",
    "def insert(hash_table, key, value):\n",
    "    hash_key = hashing_func(key)\n",
    "    \n",
    "    \n",
    "    hash_table[hash_key].append((key, value,))"
   ]
  },
  {
   "cell_type": "code",
   "execution_count": null,
   "metadata": {},
   "outputs": [],
   "source": []
  }
 ],
 "metadata": {
  "kernelspec": {
   "display_name": "Python 3",
   "language": "python",
   "name": "python3"
  },
  "language_info": {
   "codemirror_mode": {
    "name": "ipython",
    "version": 3
   },
   "file_extension": ".py",
   "mimetype": "text/x-python",
   "name": "python",
   "nbconvert_exporter": "python",
   "pygments_lexer": "ipython3",
   "version": "3.7.4"
  }
 },
 "nbformat": 4,
 "nbformat_minor": 2
}
