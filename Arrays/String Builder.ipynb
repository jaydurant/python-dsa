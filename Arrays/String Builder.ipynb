{
 "cells": [
  {
   "cell_type": "markdown",
   "metadata": {},
   "source": [
    "# String Builder\n",
    "\n",
    "- a new copy of the string is created when copying and two strings are copied over\n",
    "    - the big o notation for this method of creating new strings is O(n^2)\n",
    "- StringBuilder creates a resizeable array of all the strings copying them back to a string only when necessary"
   ]
  },
  {
   "cell_type": "code",
   "execution_count": 2,
   "metadata": {},
   "outputs": [
    {
     "name": "stdout",
     "output_type": "stream",
     "text": [
      "cars\n"
     ]
    }
   ],
   "source": [
    "# a new string is being created at each iteration\n",
    "# on each concatenation a new copy is crteated and two strings are copied over\n",
    "def join_words(word):\n",
    "    new_string = \"\"\n",
    "    \n",
    "    for letter in word:\n",
    "        new_string = new_string + letter\n",
    "    return new_string\n",
    "\n",
    "print(join_words('cars'))"
   ]
  },
  {
   "cell_type": "markdown",
   "metadata": {},
   "source": [
    "#String Builder "
   ]
  },
  {
   "cell_type": "code",
   "execution_count": 9,
   "metadata": {
    "scrolled": true
   },
   "outputs": [
    {
     "name": "stdout",
     "output_type": "stream",
     "text": [
      "carbartar\n"
     ]
    }
   ],
   "source": [
    "def string_builder(words):\n",
    "    string_list = []\n",
    "    for i in words:\n",
    "       string_list.append(i)\n",
    "    \n",
    "    return \"\".join(string_list)\n",
    "\n",
    "print(string_builder(['car','bar','tar']))"
   ]
  }
 ],
 "metadata": {
  "kernelspec": {
   "display_name": "Python 3",
   "language": "python",
   "name": "python3"
  },
  "language_info": {
   "codemirror_mode": {
    "name": "ipython",
    "version": 3
   },
   "file_extension": ".py",
   "mimetype": "text/x-python",
   "name": "python",
   "nbconvert_exporter": "python",
   "pygments_lexer": "ipython3",
   "version": "3.6.5"
  }
 },
 "nbformat": 4,
 "nbformat_minor": 2
}
