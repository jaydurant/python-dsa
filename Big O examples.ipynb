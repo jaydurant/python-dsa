{
 "cells": [
  {
   "cell_type": "code",
   "execution_count": null,
   "metadata": {},
   "outputs": [],
   "source": [
    "def product(a, b):\n",
    "    sum = 0 \n",
    "    for i in range(b):\n",
    "        sum += a\n",
    "    return sum\n",
    "\n",
    "# O(b)"
   ]
  },
  {
   "cell_type": "code",
   "execution_count": null,
   "metadata": {},
   "outputs": [],
   "source": [
    "def power(a, b):\n",
    "    if b < 0:\n",
    "        return 0\n",
    "    elif b == 0:\n",
    "        return 1\n",
    "    else:\n",
    "        return a * power(a, b - 1)\n",
    "# O(b)\n"
   ]
  },
  {
   "cell_type": "code",
   "execution_count": null,
   "metadata": {},
   "outputs": [],
   "source": [
    "def mod(a, b):\n",
    "    if b <= 0:\n",
    "        return -1\n",
    "    div = a / b\n",
    "    return a - div * b\n",
    "#O(1)"
   ]
  },
  {
   "cell_type": "code",
   "execution_count": null,
   "metadata": {},
   "outputs": [],
   "source": [
    "def div(a, b):\n",
    "    count = 0\n",
    "    sum = b\n",
    "    \n",
    "    while sum <= a:\n",
    "        sum += b\n",
    "        count++\n",
    "    return count\n",
    "\n",
    "#O(a / b)"
   ]
  },
  {
   "cell_type": "code",
   "execution_count": null,
   "metadata": {},
   "outputs": [],
   "source": [
    "def sqrt(n):\n",
    "    return sqrt_helper(n, 1, n)\n",
    "\n",
    "def sqrt_helper(n, min, max):\n",
    "    if max < min:\n",
    "        return -1\n",
    "    \n",
    "    guess = (min + max) / 2\n",
    "    if guess * guess == n:\n",
    "        return guess\n",
    "    elif guess* guess  < 2:\n",
    "        return sqrt_helper(n, guess + 1, max)\n",
    "    else:\n",
    "        return sqrt_helper(n, min, guess - 1)\n",
    "    \n",
    "#O(sqrt(n))"
   ]
  },
  {
   "cell_type": "markdown",
   "metadata": {},
   "source": [
    "unbalanced binary tree worst search\n",
    "$$ O(n) $$"
   ]
  },
  {
   "cell_type": "code",
   "execution_count": null,
   "metadata": {},
   "outputs": [],
   "source": [
    "def copyArray(arr):\n",
    "    copy = []\n",
    "    for value in arr:\n",
    "        copy = appendToNew(copy, value)\n",
    "    return copy\n",
    "\n",
    "def appendToNew(arr, value):\n",
    "    bigger = [] length + 1\n",
    "    \n",
    "    for i in range(len(arr)):\n",
    "        bigger[i] = arr[i]\n",
    "        \n",
    "    bigger[len(bigger) -1] = value\n",
    "    return bigger\n",
    "\n",
    "#O(n^2)\n"
   ]
  },
  {
   "cell_type": "code",
   "execution_count": null,
   "metadata": {},
   "outputs": [],
   "source": [
    "def sumDigits(n):\n",
    "    sum_digits = 0\n",
    "    while n > 0:\n",
    "        sum += n % 10\n",
    "        n = n / 10\n",
    "    return sum_digits\n",
    "\n",
    "#O(log n)\n",
    "# digits N  can be up to 10^d  log N = d"
   ]
  },
  {
   "cell_type": "code",
   "execution_count": null,
   "metadata": {},
   "outputs": [],
   "source": [
    "numChars = 26\n",
    "\n",
    "def printSortedStrings(remaining):\n",
    "    printSortedStringsPrefix(remaining, \"\")\n",
    "\n",
    "def printSortedStringsPrefix(remaining, prefix):\n",
    "    if remaining == 0:\n",
    "        if isInOrder(prefix):\n",
    "            print(prefix)\n",
    "    else:\n",
    "        for i in range(numChars):\n",
    "            character = chr(i)\n",
    "            printSortedStringsPrefix(remaining - 1, prefix + character)\n",
    "\n",
    "def isInOrder(s):\n",
    "    for i in range(len(s)):\n",
    "        prev = s[i - 1]\n",
    "        curr = s[i]\n",
    "        \n",
    "        if prev > curr:\n",
    "            return false\n",
    "    return true\n",
    "\n",
    "#O(K C^K) C being the num of characters and k the length of the string\n"
   ]
  },
  {
   "cell_type": "code",
   "execution_count": null,
   "metadata": {},
   "outputs": [],
   "source": [
    "def intersection(a , b):\n",
    "    mergesort(b)\n",
    "    intersect = 0\n",
    "    \n",
    "    for i in a:\n",
    "        if binarySearch(b,i) >= 0:\n",
    "            intersect++\n",
    "    return intersect\n",
    "\n",
    "# O(b log b + a log b)"
   ]
  }
 ],
 "metadata": {
  "kernelspec": {
   "display_name": "Python 3",
   "language": "python",
   "name": "python3"
  },
  "language_info": {
   "codemirror_mode": {
    "name": "ipython",
    "version": 3
   },
   "file_extension": ".py",
   "mimetype": "text/x-python",
   "name": "python",
   "nbconvert_exporter": "python",
   "pygments_lexer": "ipython3",
   "version": "3.7.3"
  }
 },
 "nbformat": 4,
 "nbformat_minor": 2
}
