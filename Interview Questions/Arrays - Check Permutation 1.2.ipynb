{
 "cells": [
  {
   "cell_type": "markdown",
   "metadata": {},
   "source": [
    "## 1.2 Check Permutation\n",
    "### Given two strings,write a method to decide if one is a permutation of the other."
   ]
  },
  {
   "cell_type": "markdown",
   "metadata": {},
   "source": []
  },
  {
   "cell_type": "code",
   "execution_count": 7,
   "metadata": {},
   "outputs": [],
   "source": [
    "cases = [\n",
    "    ['abxsw', 'xswab'],\n",
    "    ['basfer','ferbas'],\n",
    "    ['caras','sarcf']\n",
    "]\n",
    "\n",
    "# test function\n",
    "def test(func, cases):\n",
    "    print(func.__name__)\n",
    "    for li in cases:\n",
    "        print(\"{} is {} \".format(li, func(li)))"
   ]
  },
  {
   "cell_type": "code",
   "execution_count": 9,
   "metadata": {},
   "outputs": [
    {
     "name": "stdout",
     "output_type": "stream",
     "text": [
      "perm_sort\n",
      "['abxsw', 'xswab'] is True \n",
      "['basfer', 'ferbas'] is True \n",
      "['caras', 'sarcf'] is False \n"
     ]
    }
   ],
   "source": [
    "# Big O (n(n log n))\n",
    "def perm_sort(case):\n",
    "    a = case[0]\n",
    "    b = case[1]\n",
    "    \n",
    "    if len(a) == len(b):\n",
    "        a = sorted(a)\n",
    "        b = sorted(b)\n",
    "        if a == b:\n",
    "            return True\n",
    "        return False\n",
    "                \n",
    "    else:\n",
    "        return False\n",
    "    \n",
    "test(perm_sort, cases)"
   ]
  },
  {
   "cell_type": "code",
   "execution_count": 13,
   "metadata": {},
   "outputs": [
    {
     "name": "stdout",
     "output_type": "stream",
     "text": [
      "perm_map\n",
      "['abxsw', 'xswab'] is True \n",
      "['basfer', 'ferbas'] is True \n",
      "['caras', 'sarcf'] is False \n"
     ]
    }
   ],
   "source": [
    "def perm_map(case):\n",
    "    a = case[0]\n",
    "    b = case[1]\n",
    "    \n",
    "    if len(a) != len(b):\n",
    "        return False\n",
    "    count_a = {}\n",
    "    \n",
    "    for i in range(len(a)):\n",
    "        if a[i] in count_a:\n",
    "            count_a[a[i]] += 1\n",
    "        else:\n",
    "            count_a[a[i]] = 1\n",
    "    \n",
    "    for x in range(len(b)):\n",
    "        if b[x] in count_a:\n",
    "            count_a[b[x]] -= 1\n",
    "    \n",
    "    for y in count_a.keys():\n",
    "        if count_a[y] != 0:\n",
    "            return False\n",
    "    return True\n",
    "\n",
    "test(perm_map, cases)\n",
    "            \n",
    "            \n",
    "    \n",
    "            "
   ]
  },
  {
   "cell_type": "code",
   "execution_count": null,
   "metadata": {},
   "outputs": [],
   "source": []
  }
 ],
 "metadata": {
  "kernelspec": {
   "display_name": "Python 3",
   "language": "python",
   "name": "python3"
  },
  "language_info": {
   "codemirror_mode": {
    "name": "ipython",
    "version": 3
   },
   "file_extension": ".py",
   "mimetype": "text/x-python",
   "name": "python",
   "nbconvert_exporter": "python",
   "pygments_lexer": "ipython3",
   "version": "3.6.5"
  }
 },
 "nbformat": 4,
 "nbformat_minor": 2
}
