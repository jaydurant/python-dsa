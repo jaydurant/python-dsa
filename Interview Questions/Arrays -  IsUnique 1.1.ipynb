{
 "cells": [
  {
   "cell_type": "markdown",
   "metadata": {},
   "source": [
    "## Problem Statement:\n",
    "###  Is Unique: Implement an algorithm to determine if a string has all unique characters. What if you cannot use additional data structures? "
   ]
  },
  {
   "cell_type": "code",
   "execution_count": 15,
   "metadata": {},
   "outputs": [],
   "source": [
    "list_1 = ['a', 'b', 'c', 'a', 'x', 'e', 'z', 'p']\n",
    "list_2 = ['a', 'b', 'c', 'd', 'e', 'f', 'g', 'h']\n",
    "\n",
    "\n",
    "lists = [list_1, list_2]\n",
    "\n",
    "# test function\n",
    "def test(func):\n",
    "    print(func.__name__)\n",
    "    for li in lists:\n",
    "        print(\"{} is {} \".format(li, func(li)))"
   ]
  },
  {
   "cell_type": "code",
   "execution_count": 16,
   "metadata": {},
   "outputs": [
    {
     "name": "stdout",
     "output_type": "stream",
     "text": [
      "is_unique_brute_force\n",
      "['a', 'b', 'c', 'a', 'x', 'e', 'z', 'p'] is False \n",
      "['a', 'b', 'c', 'd', 'e', 'f', 'g', 'h'] is True \n"
     ]
    }
   ],
   "source": [
    "#Big O is O(n^2)\n",
    "def is_unique_brute_force(arr):\n",
    "    for i in range(len(arr) - 2):\n",
    "        for y in range(i + 1, len(arr) - 1):\n",
    "            if arr[i] == arr[y]:\n",
    "                return False\n",
    "    return True\n",
    "\n",
    "test(is_unique_brute_force)"
   ]
  },
  {
   "cell_type": "code",
   "execution_count": 17,
   "metadata": {},
   "outputs": [
    {
     "name": "stdout",
     "output_type": "stream",
     "text": [
      "is_unique_dict\n",
      "a\n",
      "['a', 'b', 'c', 'a', 'x', 'e', 'z', 'p'] is False \n",
      "['a', 'b', 'c', 'd', 'e', 'f', 'g', 'h'] is True \n"
     ]
    }
   ],
   "source": [
    "def is_unique_dict(arr):\n",
    "    unique_map = {}\n",
    "    \n",
    "    is_unique = True\n",
    "    for elem in arr:\n",
    "        if elem in unique_map:\n",
    "            is_unique = False\n",
    "            print(elem)\n",
    "            break\n",
    "        else:\n",
    "            unique_map[elem] = 0\n",
    "            \n",
    "    return is_unique\n",
    "\n",
    "test(is_unique_dict)\n",
    "        "
   ]
  },
  {
   "cell_type": "code",
   "execution_count": null,
   "metadata": {},
   "outputs": [],
   "source": []
  }
 ],
 "metadata": {
  "kernelspec": {
   "display_name": "Python 3",
   "language": "python",
   "name": "python3"
  },
  "language_info": {
   "codemirror_mode": {
    "name": "ipython",
    "version": 3
   },
   "file_extension": ".py",
   "mimetype": "text/x-python",
   "name": "python",
   "nbconvert_exporter": "python",
   "pygments_lexer": "ipython3",
   "version": "3.6.5"
  }
 },
 "nbformat": 4,
 "nbformat_minor": 2
}
